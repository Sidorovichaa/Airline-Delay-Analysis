{
 "cells": [
  {
   "cell_type": "markdown",
   "id": "d8dffee8",
   "metadata": {},
   "source": [
    "### 🎯  The aim of this project is to make an easy analysis and predict whether an aircraft will be delayed or cancelled"
   ]
  },
  {
   "cell_type": "markdown",
   "id": "a5b7fb51",
   "metadata": {},
   "source": [
    "###   🏆   The dataset used in this research is the Kaggle competition dataset taken from the 2009 ASA Statistical Computing and Graphics Data Expo and available on:  https://www.kaggle.com/datasets/giovamata/airlinedelaycauses"
   ]
  },
  {
   "cell_type": "markdown",
   "id": "40947da1",
   "metadata": {},
   "source": [
    "# Exploratory data analysis"
   ]
  },
  {
   "cell_type": "markdown",
   "id": "0431215d",
   "metadata": {},
   "source": [
    "### 📈  Variables in dataset\n",
    " 1. Year: 2008\n",
    " 2. Month: 11 (November)\n",
    " 3. DayofMonth: 1-31\n",
    " 4. DayOfWeek: 1 (Monday) - 7 (Sunday)\n",
    " 5. DepTime: actual departure time (hhmm)\n",
    " 6. CRSDepTime: scheduled departure time (hhmm)\n",
    " 7. ArrTime: actual arrival time (hhmm)\n",
    " 8. CRSArrTime: scheduled arrival time (hhmm)\n",
    " 9. UniqueCarrier: unique carrier code\n",
    " 10. FlightNum: flight number\n",
    " 11. TailNum: plane tail number\n",
    " 12. ActualElapsedTime: actual elapsed time of flight (estimated elapse time) in minutes\n",
    " 13. CRSElapsedTime: CRS elapsed time of flight (estimated elapse time) in minutes\n",
    " 14. AirTime: flight time in in minutes\n",
    " 15. ArrDelay: TARGET -  difference in minutes between scheduled and actual arrival time, in minutes\n",
    " 16. DepDelay: difference in minutes between scheduled and actual departure time, in minutes\n",
    " 17. Origin: origin IATA airport code\n",
    " 18. Dest: destination IATA airport code\n",
    " 19. Distance: distance between airports (miles)\n",
    " 20. TaxiIn: wheels down and arrival at the destination airport gate, in minutes\n",
    " 21. TaxiOut: The time elapsed between departure from the origin airport gate and wheels off, in minutes\n",
    " 22. Cancelled: was the flight cancelled?\n",
    " 23. CancellationCode: reason for cancellation (A = carrier, B = weather, C = NAS, D = security)\n",
    " 24. Diverted: 1 = yes, 0 = no\n",
    " 25. CarrierDelay: carrier delay in minutes\n",
    " 26. WeatherDelay: weather delay in minutes\n",
    " 27. NASDelay: NAS delay in minutes\n",
    " 28. SecurityDelay: security delayin minutes\n",
    " 29. LateAircraftDelay: late aircraft delay in minutes"
   ]
  },
  {
   "cell_type": "markdown",
   "id": "86ba0a7c",
   "metadata": {},
   "source": [
    "### For EDA, I applied the Pandas-profiling library which visualizes almost everything you need for preliminary envestigation of your dataset: data types, missing values, duplicate rows, correlation matrix and much more. In some cases you have to additionally install Ipywidgets module."
   ]
  },
  {
   "cell_type": "code",
   "execution_count": null,
   "id": "ffc66c0b",
   "metadata": {},
   "outputs": [],
   "source": [
    "pip install pandas-profiling\n",
    "pip install ipywidgets\n",
    "import pandas_profiling"
   ]
  },
  {
   "cell_type": "code",
   "execution_count": 1,
   "id": "9e6db33b",
   "metadata": {},
   "outputs": [],
   "source": [
    "import numpy as np\n",
    "import pandas as pd\n",
    "import seaborn as sns\n",
    "import matplotlib.pyplot as plt\n",
    "import random\n",
    "import pandas_profiling\n",
    "import sqlite3\n",
    "%matplotlib inline"
   ]
  },
  {
   "cell_type": "markdown",
   "id": "a556aba2",
   "metadata": {},
   "source": [
    "### We can load the full data from the file or a part of them"
   ]
  },
  {
   "cell_type": "code",
   "execution_count": 2,
   "id": "b475343b",
   "metadata": {},
   "outputs": [
    {
     "name": "stdout",
     "output_type": "stream",
     "text": [
      "There are 1936758 rows and 30 columns\n"
     ]
    }
   ],
   "source": [
    "nRowsRead = None # specify number of rows to read - print None if want to read whole file\n",
    "file_path = 'DelayedFlights.csv'\n",
    "data = pd.read_csv(file_path, header=0, nrows=nRowsRead)\n",
    "nRow, nCol = data.shape\n",
    "print(f'There are {nRow} rows and {nCol} columns')"
   ]
  },
  {
   "cell_type": "code",
   "execution_count": 3,
   "id": "293661d4",
   "metadata": {
    "scrolled": true
   },
   "outputs": [
    {
     "data": {
      "text/html": [
       "<div>\n",
       "<style scoped>\n",
       "    .dataframe tbody tr th:only-of-type {\n",
       "        vertical-align: middle;\n",
       "    }\n",
       "\n",
       "    .dataframe tbody tr th {\n",
       "        vertical-align: top;\n",
       "    }\n",
       "\n",
       "    .dataframe thead th {\n",
       "        text-align: right;\n",
       "    }\n",
       "</style>\n",
       "<table border=\"1\" class=\"dataframe\">\n",
       "  <thead>\n",
       "    <tr style=\"text-align: right;\">\n",
       "      <th></th>\n",
       "      <th>Unnamed: 0</th>\n",
       "      <th>Year</th>\n",
       "      <th>Month</th>\n",
       "      <th>DayofMonth</th>\n",
       "      <th>DayOfWeek</th>\n",
       "      <th>DepTime</th>\n",
       "      <th>CRSDepTime</th>\n",
       "      <th>ArrTime</th>\n",
       "      <th>CRSArrTime</th>\n",
       "      <th>UniqueCarrier</th>\n",
       "      <th>...</th>\n",
       "      <th>TaxiIn</th>\n",
       "      <th>TaxiOut</th>\n",
       "      <th>Cancelled</th>\n",
       "      <th>CancellationCode</th>\n",
       "      <th>Diverted</th>\n",
       "      <th>CarrierDelay</th>\n",
       "      <th>WeatherDelay</th>\n",
       "      <th>NASDelay</th>\n",
       "      <th>SecurityDelay</th>\n",
       "      <th>LateAircraftDelay</th>\n",
       "    </tr>\n",
       "  </thead>\n",
       "  <tbody>\n",
       "    <tr>\n",
       "      <th>0</th>\n",
       "      <td>0</td>\n",
       "      <td>2008</td>\n",
       "      <td>1</td>\n",
       "      <td>3</td>\n",
       "      <td>4</td>\n",
       "      <td>2003.0</td>\n",
       "      <td>1955</td>\n",
       "      <td>2211.0</td>\n",
       "      <td>2225</td>\n",
       "      <td>WN</td>\n",
       "      <td>...</td>\n",
       "      <td>4.0</td>\n",
       "      <td>8.0</td>\n",
       "      <td>0</td>\n",
       "      <td>N</td>\n",
       "      <td>0</td>\n",
       "      <td>NaN</td>\n",
       "      <td>NaN</td>\n",
       "      <td>NaN</td>\n",
       "      <td>NaN</td>\n",
       "      <td>NaN</td>\n",
       "    </tr>\n",
       "    <tr>\n",
       "      <th>1</th>\n",
       "      <td>1</td>\n",
       "      <td>2008</td>\n",
       "      <td>1</td>\n",
       "      <td>3</td>\n",
       "      <td>4</td>\n",
       "      <td>754.0</td>\n",
       "      <td>735</td>\n",
       "      <td>1002.0</td>\n",
       "      <td>1000</td>\n",
       "      <td>WN</td>\n",
       "      <td>...</td>\n",
       "      <td>5.0</td>\n",
       "      <td>10.0</td>\n",
       "      <td>0</td>\n",
       "      <td>N</td>\n",
       "      <td>0</td>\n",
       "      <td>NaN</td>\n",
       "      <td>NaN</td>\n",
       "      <td>NaN</td>\n",
       "      <td>NaN</td>\n",
       "      <td>NaN</td>\n",
       "    </tr>\n",
       "    <tr>\n",
       "      <th>2</th>\n",
       "      <td>2</td>\n",
       "      <td>2008</td>\n",
       "      <td>1</td>\n",
       "      <td>3</td>\n",
       "      <td>4</td>\n",
       "      <td>628.0</td>\n",
       "      <td>620</td>\n",
       "      <td>804.0</td>\n",
       "      <td>750</td>\n",
       "      <td>WN</td>\n",
       "      <td>...</td>\n",
       "      <td>3.0</td>\n",
       "      <td>17.0</td>\n",
       "      <td>0</td>\n",
       "      <td>N</td>\n",
       "      <td>0</td>\n",
       "      <td>NaN</td>\n",
       "      <td>NaN</td>\n",
       "      <td>NaN</td>\n",
       "      <td>NaN</td>\n",
       "      <td>NaN</td>\n",
       "    </tr>\n",
       "    <tr>\n",
       "      <th>3</th>\n",
       "      <td>4</td>\n",
       "      <td>2008</td>\n",
       "      <td>1</td>\n",
       "      <td>3</td>\n",
       "      <td>4</td>\n",
       "      <td>1829.0</td>\n",
       "      <td>1755</td>\n",
       "      <td>1959.0</td>\n",
       "      <td>1925</td>\n",
       "      <td>WN</td>\n",
       "      <td>...</td>\n",
       "      <td>3.0</td>\n",
       "      <td>10.0</td>\n",
       "      <td>0</td>\n",
       "      <td>N</td>\n",
       "      <td>0</td>\n",
       "      <td>2.0</td>\n",
       "      <td>0.0</td>\n",
       "      <td>0.0</td>\n",
       "      <td>0.0</td>\n",
       "      <td>32.0</td>\n",
       "    </tr>\n",
       "    <tr>\n",
       "      <th>4</th>\n",
       "      <td>5</td>\n",
       "      <td>2008</td>\n",
       "      <td>1</td>\n",
       "      <td>3</td>\n",
       "      <td>4</td>\n",
       "      <td>1940.0</td>\n",
       "      <td>1915</td>\n",
       "      <td>2121.0</td>\n",
       "      <td>2110</td>\n",
       "      <td>WN</td>\n",
       "      <td>...</td>\n",
       "      <td>4.0</td>\n",
       "      <td>10.0</td>\n",
       "      <td>0</td>\n",
       "      <td>N</td>\n",
       "      <td>0</td>\n",
       "      <td>NaN</td>\n",
       "      <td>NaN</td>\n",
       "      <td>NaN</td>\n",
       "      <td>NaN</td>\n",
       "      <td>NaN</td>\n",
       "    </tr>\n",
       "  </tbody>\n",
       "</table>\n",
       "<p>5 rows × 30 columns</p>\n",
       "</div>"
      ],
      "text/plain": [
       "   Unnamed: 0  Year  Month  DayofMonth  DayOfWeek  DepTime  CRSDepTime  \\\n",
       "0           0  2008      1           3          4   2003.0        1955   \n",
       "1           1  2008      1           3          4    754.0         735   \n",
       "2           2  2008      1           3          4    628.0         620   \n",
       "3           4  2008      1           3          4   1829.0        1755   \n",
       "4           5  2008      1           3          4   1940.0        1915   \n",
       "\n",
       "   ArrTime  CRSArrTime UniqueCarrier  ...  TaxiIn TaxiOut  Cancelled  \\\n",
       "0   2211.0        2225            WN  ...     4.0     8.0          0   \n",
       "1   1002.0        1000            WN  ...     5.0    10.0          0   \n",
       "2    804.0         750            WN  ...     3.0    17.0          0   \n",
       "3   1959.0        1925            WN  ...     3.0    10.0          0   \n",
       "4   2121.0        2110            WN  ...     4.0    10.0          0   \n",
       "\n",
       "   CancellationCode  Diverted  CarrierDelay  WeatherDelay NASDelay  \\\n",
       "0                 N         0           NaN           NaN      NaN   \n",
       "1                 N         0           NaN           NaN      NaN   \n",
       "2                 N         0           NaN           NaN      NaN   \n",
       "3                 N         0           2.0           0.0      0.0   \n",
       "4                 N         0           NaN           NaN      NaN   \n",
       "\n",
       "  SecurityDelay  LateAircraftDelay  \n",
       "0           NaN                NaN  \n",
       "1           NaN                NaN  \n",
       "2           NaN                NaN  \n",
       "3           0.0               32.0  \n",
       "4           NaN                NaN  \n",
       "\n",
       "[5 rows x 30 columns]"
      ]
     },
     "execution_count": 3,
     "metadata": {},
     "output_type": "execute_result"
    }
   ],
   "source": [
    "data.head(5)"
   ]
  },
  {
   "cell_type": "code",
   "execution_count": 4,
   "id": "01d2a55d",
   "metadata": {},
   "outputs": [],
   "source": [
    "data = data.drop(['Unnamed: 0'], axis = 1)"
   ]
  },
  {
   "cell_type": "code",
   "execution_count": null,
   "id": "154f4e03",
   "metadata": {},
   "outputs": [],
   "source": [
    "data_profile = pandas_profiling.ProfileReport(data)\n",
    "data_profile.to_file(\"EDA Dataset Report.html\")"
   ]
  },
  {
   "cell_type": "code",
   "execution_count": 5,
   "id": "9959b413",
   "metadata": {},
   "outputs": [
    {
     "data": {
      "text/plain": [
       "Year                   int64\n",
       "Month                  int64\n",
       "DayofMonth             int64\n",
       "DayOfWeek              int64\n",
       "DepTime              float64\n",
       "CRSDepTime             int64\n",
       "ArrTime              float64\n",
       "CRSArrTime             int64\n",
       "UniqueCarrier         object\n",
       "FlightNum              int64\n",
       "TailNum               object\n",
       "ActualElapsedTime    float64\n",
       "CRSElapsedTime       float64\n",
       "AirTime              float64\n",
       "ArrDelay             float64\n",
       "DepDelay             float64\n",
       "Origin                object\n",
       "Dest                  object\n",
       "Distance               int64\n",
       "TaxiIn               float64\n",
       "TaxiOut              float64\n",
       "Cancelled              int64\n",
       "CancellationCode      object\n",
       "Diverted               int64\n",
       "CarrierDelay         float64\n",
       "WeatherDelay         float64\n",
       "NASDelay             float64\n",
       "SecurityDelay        float64\n",
       "LateAircraftDelay    float64\n",
       "dtype: object"
      ]
     },
     "execution_count": 5,
     "metadata": {},
     "output_type": "execute_result"
    }
   ],
   "source": [
    "data.dtypes"
   ]
  },
  {
   "cell_type": "code",
   "execution_count": 6,
   "id": "07ccb944",
   "metadata": {},
   "outputs": [
    {
     "name": "stdout",
     "output_type": "stream",
     "text": [
      "Year                      0\n",
      "Month                     0\n",
      "DayofMonth                0\n",
      "DayOfWeek                 0\n",
      "DepTime                   0\n",
      "CRSDepTime                0\n",
      "ArrTime                7110\n",
      "CRSArrTime                0\n",
      "UniqueCarrier             0\n",
      "FlightNum                 0\n",
      "TailNum                   5\n",
      "ActualElapsedTime      8387\n",
      "CRSElapsedTime          198\n",
      "AirTime                8387\n",
      "ArrDelay               8387\n",
      "DepDelay                  0\n",
      "Origin                    0\n",
      "Dest                      0\n",
      "Distance                  0\n",
      "TaxiIn                 7110\n",
      "TaxiOut                 455\n",
      "Cancelled                 0\n",
      "CancellationCode          0\n",
      "Diverted                  0\n",
      "CarrierDelay         689270\n",
      "WeatherDelay         689270\n",
      "NASDelay             689270\n",
      "SecurityDelay        689270\n",
      "LateAircraftDelay    689270\n",
      "dtype: int64\n"
     ]
    }
   ],
   "source": [
    "print(data.isna().sum())"
   ]
  },
  {
   "cell_type": "code",
   "execution_count": 7,
   "id": "a4de67b0",
   "metadata": {
    "scrolled": true
   },
   "outputs": [
    {
     "data": {
      "text/html": [
       "<div>\n",
       "<style scoped>\n",
       "    .dataframe tbody tr th:only-of-type {\n",
       "        vertical-align: middle;\n",
       "    }\n",
       "\n",
       "    .dataframe tbody tr th {\n",
       "        vertical-align: top;\n",
       "    }\n",
       "\n",
       "    .dataframe thead th {\n",
       "        text-align: right;\n",
       "    }\n",
       "</style>\n",
       "<table border=\"1\" class=\"dataframe\">\n",
       "  <thead>\n",
       "    <tr style=\"text-align: right;\">\n",
       "      <th></th>\n",
       "      <th>count</th>\n",
       "      <th>mean</th>\n",
       "      <th>std</th>\n",
       "      <th>min</th>\n",
       "      <th>25%</th>\n",
       "      <th>50%</th>\n",
       "      <th>75%</th>\n",
       "      <th>max</th>\n",
       "    </tr>\n",
       "  </thead>\n",
       "  <tbody>\n",
       "    <tr>\n",
       "      <th>ArrDelay</th>\n",
       "      <td>1928371.0</td>\n",
       "      <td>42.199885</td>\n",
       "      <td>56.784715</td>\n",
       "      <td>-109.0</td>\n",
       "      <td>9.0</td>\n",
       "      <td>24.0</td>\n",
       "      <td>56.0</td>\n",
       "      <td>2461.0</td>\n",
       "    </tr>\n",
       "    <tr>\n",
       "      <th>DepDelay</th>\n",
       "      <td>1936758.0</td>\n",
       "      <td>43.185176</td>\n",
       "      <td>53.402502</td>\n",
       "      <td>6.0</td>\n",
       "      <td>12.0</td>\n",
       "      <td>24.0</td>\n",
       "      <td>53.0</td>\n",
       "      <td>2467.0</td>\n",
       "    </tr>\n",
       "    <tr>\n",
       "      <th>CarrierDelay</th>\n",
       "      <td>1247488.0</td>\n",
       "      <td>19.179399</td>\n",
       "      <td>43.546207</td>\n",
       "      <td>0.0</td>\n",
       "      <td>0.0</td>\n",
       "      <td>2.0</td>\n",
       "      <td>21.0</td>\n",
       "      <td>2436.0</td>\n",
       "    </tr>\n",
       "    <tr>\n",
       "      <th>WeatherDelay</th>\n",
       "      <td>1247488.0</td>\n",
       "      <td>3.703571</td>\n",
       "      <td>21.492900</td>\n",
       "      <td>0.0</td>\n",
       "      <td>0.0</td>\n",
       "      <td>0.0</td>\n",
       "      <td>0.0</td>\n",
       "      <td>1352.0</td>\n",
       "    </tr>\n",
       "    <tr>\n",
       "      <th>NASDelay</th>\n",
       "      <td>1247488.0</td>\n",
       "      <td>15.021635</td>\n",
       "      <td>33.833052</td>\n",
       "      <td>0.0</td>\n",
       "      <td>0.0</td>\n",
       "      <td>2.0</td>\n",
       "      <td>15.0</td>\n",
       "      <td>1357.0</td>\n",
       "    </tr>\n",
       "    <tr>\n",
       "      <th>SecurityDelay</th>\n",
       "      <td>1247488.0</td>\n",
       "      <td>0.090137</td>\n",
       "      <td>2.022714</td>\n",
       "      <td>0.0</td>\n",
       "      <td>0.0</td>\n",
       "      <td>0.0</td>\n",
       "      <td>0.0</td>\n",
       "      <td>392.0</td>\n",
       "    </tr>\n",
       "    <tr>\n",
       "      <th>LateAircraftDelay</th>\n",
       "      <td>1247488.0</td>\n",
       "      <td>25.296466</td>\n",
       "      <td>42.054862</td>\n",
       "      <td>0.0</td>\n",
       "      <td>0.0</td>\n",
       "      <td>8.0</td>\n",
       "      <td>33.0</td>\n",
       "      <td>1316.0</td>\n",
       "    </tr>\n",
       "  </tbody>\n",
       "</table>\n",
       "</div>"
      ],
      "text/plain": [
       "                       count       mean        std    min   25%   50%   75%  \\\n",
       "ArrDelay           1928371.0  42.199885  56.784715 -109.0   9.0  24.0  56.0   \n",
       "DepDelay           1936758.0  43.185176  53.402502    6.0  12.0  24.0  53.0   \n",
       "CarrierDelay       1247488.0  19.179399  43.546207    0.0   0.0   2.0  21.0   \n",
       "WeatherDelay       1247488.0   3.703571  21.492900    0.0   0.0   0.0   0.0   \n",
       "NASDelay           1247488.0  15.021635  33.833052    0.0   0.0   2.0  15.0   \n",
       "SecurityDelay      1247488.0   0.090137   2.022714    0.0   0.0   0.0   0.0   \n",
       "LateAircraftDelay  1247488.0  25.296466  42.054862    0.0   0.0   8.0  33.0   \n",
       "\n",
       "                      max  \n",
       "ArrDelay           2461.0  \n",
       "DepDelay           2467.0  \n",
       "CarrierDelay       2436.0  \n",
       "WeatherDelay       1352.0  \n",
       "NASDelay           1357.0  \n",
       "SecurityDelay       392.0  \n",
       "LateAircraftDelay  1316.0  "
      ]
     },
     "execution_count": 7,
     "metadata": {},
     "output_type": "execute_result"
    }
   ],
   "source": [
    "#details of delay related columns\n",
    "stat = data[['ArrDelay','DepDelay','CarrierDelay','WeatherDelay','NASDelay','SecurityDelay',\n",
    "               'LateAircraftDelay']]\n",
    "\n",
    "stat = stat.describe().T\n",
    "stat"
   ]
  },
  {
   "cell_type": "markdown",
   "id": "6634221a",
   "metadata": {},
   "source": [
    "### It is important to keep in mind that if a plane arrived in time then we say that the \"delay\" is equalled zero. Negative values means an earlier arrival"
   ]
  },
  {
   "cell_type": "code",
   "execution_count": 34,
   "id": "ddcd3b40",
   "metadata": {},
   "outputs": [
    {
     "name": "stdout",
     "output_type": "stream",
     "text": [
      "Cancelled flights coprise 0.0327%\n"
     ]
    }
   ],
   "source": [
    "n_cancelled = (data['Cancelled'].sum() / len(data['Cancelled'])) * 100\n",
    "print(f'Cancelled flights coprise {round(n_cancelled, 4)}%')"
   ]
  },
  {
   "cell_type": "code",
   "execution_count": 33,
   "id": "e83329a0",
   "metadata": {},
   "outputs": [
    {
     "name": "stdout",
     "output_type": "stream",
     "text": [
      "Diverted flights coprise 0.4004%\n"
     ]
    }
   ],
   "source": [
    "n_cancelled = (data['Diverted'].sum() / len(data['Cancelled'])) * 100\n",
    "print(f'Diverted flights coprise {round(n_cancelled, 4)}%')"
   ]
  },
  {
   "cell_type": "code",
   "execution_count": 8,
   "id": "abb14f87",
   "metadata": {},
   "outputs": [
    {
     "data": {
      "text/html": [
       "<div>\n",
       "<style scoped>\n",
       "    .dataframe tbody tr th:only-of-type {\n",
       "        vertical-align: middle;\n",
       "    }\n",
       "\n",
       "    .dataframe tbody tr th {\n",
       "        vertical-align: top;\n",
       "    }\n",
       "\n",
       "    .dataframe thead th {\n",
       "        text-align: right;\n",
       "    }\n",
       "</style>\n",
       "<table border=\"1\" class=\"dataframe\">\n",
       "  <thead>\n",
       "    <tr style=\"text-align: right;\">\n",
       "      <th></th>\n",
       "      <th>CarrierDelay</th>\n",
       "      <th>DepDelay</th>\n",
       "      <th>Distance</th>\n",
       "      <th>Diverted</th>\n",
       "      <th>FlightNum</th>\n",
       "      <th>LateAircraftDelay</th>\n",
       "      <th>NASDelay</th>\n",
       "      <th>SecurityDelay</th>\n",
       "      <th>TaxiIn</th>\n",
       "      <th>TaxiOut</th>\n",
       "      <th>WeatherDelay</th>\n",
       "    </tr>\n",
       "    <tr>\n",
       "      <th>Cancelled</th>\n",
       "      <th></th>\n",
       "      <th></th>\n",
       "      <th></th>\n",
       "      <th></th>\n",
       "      <th></th>\n",
       "      <th></th>\n",
       "      <th></th>\n",
       "      <th></th>\n",
       "      <th></th>\n",
       "      <th></th>\n",
       "      <th></th>\n",
       "    </tr>\n",
       "  </thead>\n",
       "  <tbody>\n",
       "    <tr>\n",
       "      <th>0</th>\n",
       "      <td>23926070.0</td>\n",
       "      <td>83580974.0</td>\n",
       "      <td>1482565872</td>\n",
       "      <td>7754</td>\n",
       "      <td>4228383916</td>\n",
       "      <td>31557038.0</td>\n",
       "      <td>18739310.0</td>\n",
       "      <td>112445.0</td>\n",
       "      <td>13146644.0</td>\n",
       "      <td>35298774.0</td>\n",
       "      <td>4620160.0</td>\n",
       "    </tr>\n",
       "    <tr>\n",
       "      <th>1</th>\n",
       "      <td>0.0</td>\n",
       "      <td>58262.0</td>\n",
       "      <td>382922</td>\n",
       "      <td>0</td>\n",
       "      <td>2005381</td>\n",
       "      <td>0.0</td>\n",
       "      <td>0.0</td>\n",
       "      <td>0.0</td>\n",
       "      <td>0.0</td>\n",
       "      <td>4295.0</td>\n",
       "      <td>0.0</td>\n",
       "    </tr>\n",
       "  </tbody>\n",
       "</table>\n",
       "</div>"
      ],
      "text/plain": [
       "           CarrierDelay    DepDelay    Distance  Diverted   FlightNum  \\\n",
       "Cancelled                                                               \n",
       "0            23926070.0  83580974.0  1482565872      7754  4228383916   \n",
       "1                   0.0     58262.0      382922         0     2005381   \n",
       "\n",
       "           LateAircraftDelay    NASDelay  SecurityDelay      TaxiIn  \\\n",
       "Cancelled                                                             \n",
       "0                 31557038.0  18739310.0       112445.0  13146644.0   \n",
       "1                        0.0         0.0            0.0         0.0   \n",
       "\n",
       "              TaxiOut  WeatherDelay  \n",
       "Cancelled                            \n",
       "0          35298774.0     4620160.0  \n",
       "1              4295.0           0.0  "
      ]
     },
     "execution_count": 8,
     "metadata": {},
     "output_type": "execute_result"
    }
   ],
   "source": [
    "pv_table = pd.pivot_table(data,index=[\"Cancelled\"],values= [\n",
    "       'UniqueCarrier', 'FlightNum', 'TailNum',\n",
    "       'DepDelay', 'Origin', 'Dest', 'Distance', 'TaxiIn', 'TaxiOut', 'CancellationCode', 'Diverted', 'CarrierDelay',\n",
    "       'WeatherDelay', 'NASDelay', 'SecurityDelay', 'LateAircraftDelay'],\n",
    "               aggfunc=np.sum)\n",
    "pv_table"
   ]
  },
  {
   "cell_type": "code",
   "execution_count": 9,
   "id": "02b30b21",
   "metadata": {
    "scrolled": true
   },
   "outputs": [
    {
     "name": "stdout",
     "output_type": "stream",
     "text": [
      "         Cancelled CancellationCode  ArrDelay  DepDelay\n",
      "1542406          1                A       NaN     122.0\n",
      "1546593          1                B       NaN      28.0\n",
      "1547161          1                C       NaN      10.0\n",
      "1547178          1                B       NaN      18.0\n",
      "1548271          1                B       NaN     118.0\n",
      "...            ...              ...       ...       ...\n",
      "1934590          1                A       NaN      42.0\n",
      "1935491          1                C       NaN       9.0\n",
      "1935651          1                A       NaN      12.0\n",
      "1935876          1                A       NaN      31.0\n",
      "1936470          1                B       NaN      33.0\n",
      "\n",
      "[633 rows x 4 columns]\n",
      "Cancelled             0\n",
      "CancellationCode      0\n",
      "ArrDelay            633\n",
      "DepDelay              0\n",
      "dtype: int64\n"
     ]
    }
   ],
   "source": [
    "canceled = data[['Cancelled','CancellationCode','ArrDelay','DepDelay']]\n",
    "canceled =canceled[canceled['Cancelled']==1] #  select only cancelled flights\n",
    "\n",
    "#explore cancelation data\n",
    "print(canceled)\n",
    "print(canceled.isna().sum()) #sum of NA's"
   ]
  },
  {
   "cell_type": "markdown",
   "id": "32df9c62",
   "metadata": {},
   "source": [
    "### Cancelled flights aren't delayed ones!"
   ]
  },
  {
   "cell_type": "code",
   "execution_count": 10,
   "id": "c16fc9d6",
   "metadata": {
    "scrolled": true
   },
   "outputs": [
    {
     "name": "stdout",
     "output_type": "stream",
     "text": [
      "         Diverted  ArrDelay  DepDelay\n",
      "1280            1       NaN       7.0\n",
      "1372            1       NaN     265.0\n",
      "1776            1       NaN      44.0\n",
      "1831            1       NaN      32.0\n",
      "2244            1       NaN     139.0\n",
      "...           ...       ...       ...\n",
      "1934369         1       NaN     163.0\n",
      "1934921         1       NaN      52.0\n",
      "1935596         1       NaN      34.0\n",
      "1935716         1       NaN     169.0\n",
      "1935978         1       NaN       7.0\n",
      "\n",
      "[7754 rows x 3 columns]\n",
      "Diverted       0\n",
      "ArrDelay    7754\n",
      "DepDelay       0\n",
      "dtype: int64\n"
     ]
    }
   ],
   "source": [
    "diverted = data[['Diverted','ArrDelay','DepDelay']]\n",
    "diverted =diverted[diverted['Diverted']==1] #  select only cancelled flights\n",
    "\n",
    "#explore data\n",
    "print(diverted)\n",
    "print(diverted.isna().sum()) #sum of NA's"
   ]
  },
  {
   "cell_type": "markdown",
   "id": "ec1151d3",
   "metadata": {},
   "source": [
    "### Neither are diverted ones!"
   ]
  },
  {
   "cell_type": "code",
   "execution_count": 11,
   "id": "1019fe44",
   "metadata": {
    "scrolled": true
   },
   "outputs": [
    {
     "name": "stdout",
     "output_type": "stream",
     "text": [
      "Origin\n",
      "ATL    6.80\n",
      "ORD    6.50\n",
      "DFW    4.93\n",
      "DEN    3.84\n",
      "LAX    3.03\n",
      "       ... \n",
      "BJI    0.00\n",
      "PIR    0.00\n",
      "PUB    0.00\n",
      "INL    0.00\n",
      "TUP    0.00\n",
      "Name: Origin, Length: 303, dtype: float64 \n",
      "\n",
      "Dest\n",
      "ORD    5.63\n",
      "ATL    5.52\n",
      "DFW    3.65\n",
      "DEN    3.25\n",
      "LAX    3.10\n",
      "       ... \n",
      "INL    0.00\n",
      "PIR    0.00\n",
      "CYS    0.00\n",
      "TUP    0.00\n",
      "OGD    0.00\n",
      "Name: Dest, Length: 304, dtype: float64 \n",
      "\n",
      "CancellationCode\n",
      "N    99.97\n",
      "B     0.02\n",
      "A     0.01\n",
      "C     0.00\n",
      "Name: CancellationCode, dtype: float64 \n",
      "\n"
     ]
    }
   ],
   "source": [
    "for i in [\"Origin\", \"Dest\", \"CancellationCode\"]:\n",
    "    print(i)\n",
    "    print(round(data[i].value_counts()*100/len(data),2),'\\n')"
   ]
  },
  {
   "cell_type": "markdown",
   "id": "5e76dea9",
   "metadata": {},
   "source": [
    "### Cancellation Code \"N\" occurs more frequintly"
   ]
  },
  {
   "cell_type": "markdown",
   "id": "646e4bdb",
   "metadata": {},
   "source": [
    "### Lets take a deep look at delayed flights"
   ]
  },
  {
   "cell_type": "code",
   "execution_count": 12,
   "id": "964d05d9",
   "metadata": {
    "scrolled": true
   },
   "outputs": [
    {
     "data": {
      "text/plain": [
       "<AxesSubplot:>"
      ]
     },
     "execution_count": 12,
     "metadata": {},
     "output_type": "execute_result"
    },
    {
     "data": {
      "image/png": "[encoded data removed]",
      "text/plain": [
       "<Figure size 432x288 with 1 Axes>"
      ]
     },
     "metadata": {
      "needs_background": "light"
     },
     "output_type": "display_data"
    }
   ],
   "source": [
    "data['ArrDelay'].hist(bins=20)"
   ]
  },
  {
   "cell_type": "code",
   "execution_count": 13,
   "id": "980c19b8",
   "metadata": {},
   "outputs": [
    {
     "data": {
      "image/png": "[encoded data removed]",
      "text/plain": [
       "<Figure size 432x288 with 1 Axes>"
      ]
     },
     "metadata": {
      "needs_background": "light"
     },
     "output_type": "display_data"
    }
   ],
   "source": [
    "data[ data['ArrDelay'] < 400 ]['ArrDelay'].hist(bins=20);"
   ]
  },
  {
   "cell_type": "code",
   "execution_count": 14,
   "id": "edecf9a5",
   "metadata": {},
   "outputs": [
    {
     "data": {
      "image/png": "[encoded data removed]",
      "text/plain": [
       "<Figure size 432x288 with 1 Axes>"
      ]
     },
     "metadata": {
      "needs_background": "light"
     },
     "output_type": "display_data"
    }
   ],
   "source": [
    "data[ data['ArrDelay'] < 50 ]['ArrDelay'].hist(bins=20);"
   ]
  },
  {
   "cell_type": "code",
   "execution_count": 15,
   "id": "1e72791b",
   "metadata": {},
   "outputs": [
    {
     "data": {
      "image/png": "[encoded data removed]",
      "text/plain": [
       "<Figure size 432x288 with 1 Axes>"
      ]
     },
     "metadata": {
      "needs_background": "light"
     },
     "output_type": "display_data"
    }
   ],
   "source": [
    "data[(data['ArrDelay'] < 0) & (data['ArrDelay'] > -40) ]['ArrDelay'].hist(bins=20);"
   ]
  },
  {
   "cell_type": "code",
   "execution_count": 39,
   "id": "de0859ea",
   "metadata": {},
   "outputs": [
    {
     "name": "stdout",
     "output_type": "stream",
     "text": [
      "Mean delay without earlier arrivals coprises 47.9 min\n"
     ]
    }
   ],
   "source": [
    "mean_delay = data[ data['ArrDelay'] > 0 ]['ArrDelay'].mean()\n",
    "print(f'Mean delay without earlier arrivals coprises {round(mean_delay, 1)} min')"
   ]
  },
  {
   "cell_type": "code",
   "execution_count": 42,
   "id": "4729ec74",
   "metadata": {},
   "outputs": [
    {
     "name": "stdout",
     "output_type": "stream",
     "text": [
      "Flights arrive earlier (if any) at average in 6.9 min\n"
     ]
    }
   ],
   "source": [
    "mean_earlies = data[ data['ArrDelay'] < 0 ]['ArrDelay'].mean()\n",
    "print(f'Flights arrive earlier (if any) at average in {round(mean_earlies, 1) * (-1)} min')"
   ]
  },
  {
   "cell_type": "code",
   "execution_count": 74,
   "id": "7ba6b7cb",
   "metadata": {},
   "outputs": [
    {
     "data": {
      "text/plain": [
       "Text(0.5, 1.0, 'Percent of real delays (without earlier arrivals) out of total flights')"
      ]
     },
     "execution_count": 74,
     "metadata": {},
     "output_type": "execute_result"
    },
    {
     "data": {
      "image/png": "[encoded data removed]",
      "text/plain": [
       "<Figure size 432x288 with 1 Axes>"
      ]
     },
     "metadata": {
      "needs_background": "light"
     },
     "output_type": "display_data"
    }
   ],
   "source": [
    "real_delays = data[ data['ArrDelay'] > 0 ][['ArrDelay', 'Month']].groupby('Month').agg('count')\n",
    "flights_per_month = data[ data['DayofMonth'] > 0 ][['DayofMonth', 'Month']].groupby('Month').agg('count')\n",
    "percent_delays = real_delays.join(flights_per_month)\n",
    "percent_delays['percent'] = percent_delays['ArrDelay'] / percent_delays['DayofMonth'] *100\n",
    "percent_delays['percent'].plot(kind=\"bar\")\n",
    "plt.hlines(y=np.mean(percent_delays['percent']), xmin=0, xmax=12, color=\"red\")\n",
    "plt.title(\"Percent of real delays (without earlier arrivals) out of total flights\")"
   ]
  },
  {
   "cell_type": "code",
   "execution_count": 75,
   "id": "9aa34801",
   "metadata": {},
   "outputs": [
    {
     "data": {
      "text/plain": [
       "Text(0.5, 1.0, 'Percent of fligths that arrived earlier out of total flights')"
      ]
     },
     "execution_count": 75,
     "metadata": {},
     "output_type": "execute_result"
    },
    {
     "data": {
      "image/png": "[encoded data removed]",
      "text/plain": [
       "<Figure size 432x288 with 1 Axes>"
      ]
     },
     "metadata": {
      "needs_background": "light"
     },
     "output_type": "display_data"
    }
   ],
   "source": [
    "arrived_earlier = data[ data['ArrDelay'] < 0 ][['ArrDelay', 'Month']].groupby('Month').agg('count')\n",
    "flights_per_month = data[ data['DayofMonth'] > 0 ][['DayofMonth', 'Month']].groupby('Month').agg('count')\n",
    "percent_early_arrivals = arrived_earlier.join(flights_per_month)\n",
    "percent_early_arrivals['percent'] = percent_early_arrivals['ArrDelay'] / percent_early_arrivals['DayofMonth'] *100\n",
    "percent_early_arrivals['percent'].plot(kind=\"bar\")\n",
    "plt.hlines(y=np.mean(percent_early_arrivals['percent']), xmin=0, xmax=12, color=\"red\")\n",
    "plt.title(\"Percent of fligths that arrived earlier out of total flights\")"
   ]
  },
  {
   "cell_type": "markdown",
   "id": "c8c5e605",
   "metadata": {},
   "source": [
    "### Lets investigate cancelled flights"
   ]
  },
  {
   "cell_type": "code",
   "execution_count": 17,
   "id": "4ad04ba9",
   "metadata": {
    "scrolled": true
   },
   "outputs": [
    {
     "data": {
      "text/plain": [
       "0    0.999673\n",
       "1    0.000327\n",
       "Name: Cancelled, dtype: float64"
      ]
     },
     "execution_count": 17,
     "metadata": {},
     "output_type": "execute_result"
    }
   ],
   "source": [
    "data[\"Cancelled\"].value_counts(normalize=True)"
   ]
  },
  {
   "cell_type": "code",
   "execution_count": 16,
   "id": "3482d4dc",
   "metadata": {},
   "outputs": [
    {
     "data": {
      "text/plain": [
       "0    1936125\n",
       "1        633\n",
       "Name: Cancelled, dtype: int64"
      ]
     },
     "execution_count": 16,
     "metadata": {},
     "output_type": "execute_result"
    }
   ],
   "source": [
    "data[\"Cancelled\"].value_counts() # look at cancelled flights"
   ]
  },
  {
   "cell_type": "code",
   "execution_count": 18,
   "id": "81902d06",
   "metadata": {},
   "outputs": [
    {
     "data": {
      "text/plain": [
       "<AxesSubplot:xlabel='Month'>"
      ]
     },
     "execution_count": 18,
     "metadata": {},
     "output_type": "execute_result"
    },
    {
     "data": {
      "image/png": "[encoded data removed]",
      "text/plain": [
       "<Figure size 432x288 with 1 Axes>"
      ]
     },
     "metadata": {
      "needs_background": "light"
     },
     "output_type": "display_data"
    }
   ],
   "source": [
    "data[ ['Month', \"Cancelled\"] ].groupby('Month').agg('count').plot(kind=\"bar\")"
   ]
  },
  {
   "cell_type": "code",
   "execution_count": 19,
   "id": "0b3f6f06",
   "metadata": {
    "scrolled": true
   },
   "outputs": [
    {
     "data": {
      "text/plain": [
       "<matplotlib.collections.LineCollection at 0x1f30756e740>"
      ]
     },
     "execution_count": 19,
     "metadata": {},
     "output_type": "execute_result"
    },
    {
     "data": {
      "image/png": "[encoded data removed]",
      "text/plain": [
       "<Figure size 432x288 with 1 Axes>"
      ]
     },
     "metadata": {
      "needs_background": "light"
     },
     "output_type": "display_data"
    }
   ],
   "source": [
    " # the probability that the plane is delayed\n",
    "data[ ['Month', \"Cancelled\"] ].groupby('Month').agg('mean').plot(kind=\"bar\")\n",
    "plt.hlines(y=np.mean(data[ \"Cancelled\"]), xmin=0, xmax=12, color=\"red\")"
   ]
  },
  {
   "cell_type": "markdown",
   "id": "f96cf26a",
   "metadata": {},
   "source": [
    "### You can see that in November - December the probability of flight being cancelled is much higher than for the rest months"
   ]
  },
  {
   "cell_type": "code",
   "execution_count": 20,
   "id": "8ff7658d",
   "metadata": {},
   "outputs": [
    {
     "data": {
      "text/plain": [
       "5    323259\n",
       "1    290933\n",
       "4    289451\n",
       "7    286111\n",
       "3    262805\n",
       "2    260943\n",
       "6    223256\n",
       "Name: DayOfWeek, dtype: int64"
      ]
     },
     "execution_count": 20,
     "metadata": {},
     "output_type": "execute_result"
    }
   ],
   "source": [
    "data[\"DayOfWeek\"].value_counts()"
   ]
  },
  {
   "cell_type": "code",
   "execution_count": 21,
   "id": "c51ad498",
   "metadata": {
    "scrolled": true
   },
   "outputs": [
    {
     "data": {
      "text/plain": [
       "<matplotlib.collections.LineCollection at 0x1f3076e33a0>"
      ]
     },
     "execution_count": 21,
     "metadata": {},
     "output_type": "execute_result"
    },
    {
     "data": {
      "image/png": "[encoded data removed]",
      "text/plain": [
       "<Figure size 432x288 with 1 Axes>"
      ]
     },
     "metadata": {
      "needs_background": "light"
     },
     "output_type": "display_data"
    }
   ],
   "source": [
    "data[ ['DayOfWeek', \"Cancelled\"] ].groupby('DayOfWeek').agg('mean').plot(kind=\"bar\")\n",
    "plt.hlines(y=np.mean(data[ \"Cancelled\"]), xmin=0, xmax=7, color=\"red\")"
   ]
  },
  {
   "cell_type": "code",
   "execution_count": 22,
   "id": "053c99da",
   "metadata": {},
   "outputs": [
    {
     "data": {
      "text/plain": [
       "<matplotlib.collections.LineCollection at 0x1f3077e5060>"
      ]
     },
     "execution_count": 22,
     "metadata": {},
     "output_type": "execute_result"
    },
    {
     "data": {
      "image/png": "[encoded data removed]",
      "text/plain": [
       "<Figure size 720x360 with 1 Axes>"
      ]
     },
     "metadata": {
      "needs_background": "light"
     },
     "output_type": "display_data"
    }
   ],
   "source": [
    "data[ ['DayofMonth', \"Cancelled\"] ].groupby('DayofMonth').agg('mean').plot(kind=\"bar\", figsize = (10, 5))\n",
    "plt.hlines(y=np.mean(data[ \"Cancelled\"]), xmin=0, xmax=31, color=\"red\")"
   ]
  },
  {
   "cell_type": "code",
   "execution_count": 23,
   "id": "786d4db7",
   "metadata": {},
   "outputs": [
    {
     "data": {
      "text/plain": [
       "<AxesSubplot:xlabel='UniqueCarrier', ylabel='count'>"
      ]
     },
     "execution_count": 23,
     "metadata": {},
     "output_type": "execute_result"
    },
    {
     "data": {
      "image/png": "[encoded data removed]",
      "text/plain": [
       "<Figure size 720x360 with 1 Axes>"
      ]
     },
     "metadata": {
      "needs_background": "light"
     },
     "output_type": "display_data"
    }
   ],
   "source": [
    "# Lets look at different Carriers\n",
    "plt.figure(figsize=(10,5))\n",
    "sns.countplot(x='UniqueCarrier',hue='Cancelled',data=data)"
   ]
  },
  {
   "cell_type": "code",
   "execution_count": 24,
   "id": "f1a67d90",
   "metadata": {},
   "outputs": [
    {
     "data": {
      "text/plain": [
       "<AxesSubplot:xlabel='CancellationCode', ylabel='count'>"
      ]
     },
     "execution_count": 24,
     "metadata": {},
     "output_type": "execute_result"
    },
    {
     "data": {
      "image/png": "[encoded data removed]",
      "text/plain": [
       "<Figure size 432x288 with 1 Axes>"
      ]
     },
     "metadata": {
      "needs_background": "light"
     },
     "output_type": "display_data"
    }
   ],
   "source": [
    "plt.figure()\n",
    "sns.countplot(x='CancellationCode',hue='Cancelled',data=data)"
   ]
  },
  {
   "cell_type": "code",
   "execution_count": 25,
   "id": "155984e5",
   "metadata": {
    "scrolled": true
   },
   "outputs": [
    {
     "data": {
      "text/html": [
       "<div>\n",
       "<style scoped>\n",
       "    .dataframe tbody tr th:only-of-type {\n",
       "        vertical-align: middle;\n",
       "    }\n",
       "\n",
       "    .dataframe tbody tr th {\n",
       "        vertical-align: top;\n",
       "    }\n",
       "\n",
       "    .dataframe thead tr th {\n",
       "        text-align: left;\n",
       "    }\n",
       "\n",
       "    .dataframe thead tr:last-of-type th {\n",
       "        text-align: right;\n",
       "    }\n",
       "</style>\n",
       "<table border=\"1\" class=\"dataframe\">\n",
       "  <thead>\n",
       "    <tr>\n",
       "      <th></th>\n",
       "      <th colspan=\"4\" halign=\"left\">Distance</th>\n",
       "    </tr>\n",
       "    <tr>\n",
       "      <th></th>\n",
       "      <th>mean</th>\n",
       "      <th>median</th>\n",
       "      <th>min</th>\n",
       "      <th>max</th>\n",
       "    </tr>\n",
       "    <tr>\n",
       "      <th>Cancelled</th>\n",
       "      <th></th>\n",
       "      <th></th>\n",
       "      <th></th>\n",
       "      <th></th>\n",
       "    </tr>\n",
       "  </thead>\n",
       "  <tbody>\n",
       "    <tr>\n",
       "      <th>0</th>\n",
       "      <td>765.738716</td>\n",
       "      <td>606.0</td>\n",
       "      <td>11</td>\n",
       "      <td>4962</td>\n",
       "    </tr>\n",
       "    <tr>\n",
       "      <th>1</th>\n",
       "      <td>604.932070</td>\n",
       "      <td>419.0</td>\n",
       "      <td>67</td>\n",
       "      <td>2677</td>\n",
       "    </tr>\n",
       "  </tbody>\n",
       "</table>\n",
       "</div>"
      ],
      "text/plain": [
       "             Distance                 \n",
       "                 mean median min   max\n",
       "Cancelled                             \n",
       "0          765.738716  606.0  11  4962\n",
       "1          604.932070  419.0  67  2677"
      ]
     },
     "execution_count": 25,
     "metadata": {},
     "output_type": "execute_result"
    }
   ],
   "source": [
    "data[ ['Distance', \"Cancelled\"] ].groupby(\"Cancelled\").agg(['mean', 'median', 'min', 'max'])"
   ]
  },
  {
   "cell_type": "markdown",
   "id": "1fd8ef38",
   "metadata": {},
   "source": [
    "### short-distance flights are more likely to be canceled"
   ]
  },
  {
   "cell_type": "code",
   "execution_count": 26,
   "id": "c0fe1619",
   "metadata": {},
   "outputs": [
    {
     "data": {
      "text/html": [
       "<div>\n",
       "<style scoped>\n",
       "    .dataframe tbody tr th:only-of-type {\n",
       "        vertical-align: middle;\n",
       "    }\n",
       "\n",
       "    .dataframe tbody tr th {\n",
       "        vertical-align: top;\n",
       "    }\n",
       "\n",
       "    .dataframe thead tr th {\n",
       "        text-align: left;\n",
       "    }\n",
       "\n",
       "    .dataframe thead tr:last-of-type th {\n",
       "        text-align: right;\n",
       "    }\n",
       "</style>\n",
       "<table border=\"1\" class=\"dataframe\">\n",
       "  <thead>\n",
       "    <tr>\n",
       "      <th></th>\n",
       "      <th colspan=\"2\" halign=\"left\">DepTime</th>\n",
       "    </tr>\n",
       "    <tr>\n",
       "      <th></th>\n",
       "      <th>mean</th>\n",
       "      <th>median</th>\n",
       "    </tr>\n",
       "    <tr>\n",
       "      <th>Cancelled</th>\n",
       "      <th></th>\n",
       "      <th></th>\n",
       "    </tr>\n",
       "  </thead>\n",
       "  <tbody>\n",
       "    <tr>\n",
       "      <th>0</th>\n",
       "      <td>1518.515542</td>\n",
       "      <td>1545.0</td>\n",
       "    </tr>\n",
       "    <tr>\n",
       "      <th>1</th>\n",
       "      <td>1575.347551</td>\n",
       "      <td>1650.0</td>\n",
       "    </tr>\n",
       "  </tbody>\n",
       "</table>\n",
       "</div>"
      ],
      "text/plain": [
       "               DepTime        \n",
       "                  mean  median\n",
       "Cancelled                     \n",
       "0          1518.515542  1545.0\n",
       "1          1575.347551  1650.0"
      ]
     },
     "execution_count": 26,
     "metadata": {},
     "output_type": "execute_result"
    }
   ],
   "source": [
    "data[ ['DepTime', \"Cancelled\"] ].groupby(\"Cancelled\").agg(['mean', 'median'])"
   ]
  },
  {
   "cell_type": "code",
   "execution_count": null,
   "id": "209c2e18",
   "metadata": {},
   "outputs": [],
   "source": []
  },
  {
   "cell_type": "markdown",
   "id": "efef8d3f",
   "metadata": {},
   "source": [
    "## Conclusion\n",
    "### There is quite a lot of data (1,936,758 rows). The data contains up to 689270 values for some variables, 2 duplicated rows. The cancelled fligths account less than 0.04 % of the total flights, and diverted ones - 0.4%. Cancelled flights are considered neither delayed not diverted ones. About 90 % of fligths are delayed and about 10% arrive earlier. Mean delay without earlier arrivals coprises 48 min. And flights arrive earlier (if any) at average in 7 min. Most of delayed flights belong to N-type. Any other types (A, B, and C) of delays take place only in October-December when the probability of flights being cancelled is also increasing."
   ]
  }
 ],
 "metadata": {
  "kernelspec": {
   "display_name": "Python 3 (ipykernel)",
   "language": "python",
   "name": "python3"
  },
  "language_info": {
   "codemirror_mode": {
    "name": "ipython",
    "version": 3
   },
   "file_extension": ".py",
   "mimetype": "text/x-python",
   "name": "python",
   "nbconvert_exporter": "python",
   "pygments_lexer": "ipython3",
   "version": "3.10.4"
  }
 },
 "nbformat": 4,
 "nbformat_minor": 5
}
