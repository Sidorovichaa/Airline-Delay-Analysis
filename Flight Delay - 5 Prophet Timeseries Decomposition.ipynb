{
 "cells": [
  {
   "cell_type": "markdown",
   "id": "0431215d",
   "metadata": {},
   "source": [
    "### 📈  Variables in dataset\n",
    " 1. Year: 2008\n",
    " 2. Month: 11 (November)\n",
    " 3. DayofMonth: 1-31\n",
    " 4. DayOfWeek: 1 (Monday) - 7 (Sunday)\n",
    " 5. DepTime: actual departure time (hhmm)\n",
    " 6. CRSDepTime: scheduled departure time (hhmm)\n",
    " 7. ArrTime: actual arrival time (hhmm)\n",
    " 8. CRSArrTime scheduled arrival time (hhmm)\n",
    " 9. UniqueCarrier: unique carrier code\n",
    " 10. FlightNum: flight number\n",
    " 11. TailNum: plane tail number\n",
    " 12. ActualElapsedTime: actual elapsed time of flight (estimated elapse time) in minutes\n",
    " 13. CRSElapsedTime: CRS elapsed time of flight (estimated elapse time) in minutes\n",
    " 14. AirTime: flight time in in minutes\n",
    " 15. ArrDelay: difference in minutes between scheduled and actual arrival time. Early arrivals show negative numbers, in minutes\n",
    " 16. DepDelay: TARGET -  Difference in minutes between scheduled and actual departure time. Early departures show negative numbers, in minutes\n",
    " 17. Origin: origin IATA airport code\n",
    " 18. Dest: destination IATA airport code\n",
    " 19. Distance: distance between airports (miles)\n",
    " 20. TaxiIn: wheels down and arrival at the destination airport gate, in minutes\n",
    " 21. TaxiOut: The time elapsed between departure from the origin airport gate and wheels off, in minutes\n",
    " 22. Cancelled: was the flight cancelled?\n",
    " 23. CancellationCode: reason for cancellation (A = carrier, B = weather, C = NAS, D = security)\n",
    " 24. Diverted: 1 = yes, 0 = no\n",
    " 25. CarrierDelay: carrier delay in minutes\n",
    " 26. WeatherDelay: weather delay in minutes\n",
    " 27. NASDelay: NAS delay in minutes\n",
    " 28. SecurityDelay: security delayin minutes\n",
    " 29. LateAircraftDelay: late aircraft delay in minutes"
   ]
  },
  {
   "cell_type": "markdown",
   "id": "86ba0a7c",
   "metadata": {},
   "source": [
    "### To predict a flight arrival delay, I applied Pycaret library which...... and much more. You have to additionally install pycaret-nightly or  --pre pycaret module."
   ]
  },
  {
   "cell_type": "code",
   "execution_count": null,
   "id": "27d0fd34",
   "metadata": {},
   "outputs": [],
   "source": [
    "!pip install"
   ]
  },
  {
   "cell_type": "code",
   "execution_count": 58,
   "id": "9e6db33b",
   "metadata": {},
   "outputs": [],
   "source": [
    "import numpy as np\n",
    "import pandas as pd\n",
    "import matplotlib.pyplot as plt"
   ]
  },
  {
   "cell_type": "markdown",
   "id": "a556aba2",
   "metadata": {},
   "source": [
    "### We can load the full data from the file or a part of them"
   ]
  },
  {
   "cell_type": "code",
   "execution_count": 59,
   "id": "b475343b",
   "metadata": {},
   "outputs": [
    {
     "name": "stdout",
     "output_type": "stream",
     "text": [
      "There are 1936758 rows and 30 columns\n"
     ]
    }
   ],
   "source": [
    "nRowsRead = None # specify number of rows to read - print None if want to read whole file\n",
    "file_path = 'DelayedFlights.csv'\n",
    "data = pd.read_csv(file_path, header=0, nrows=nRowsRead)\n",
    "nRow, nCol = data.shape\n",
    "print(f'There are {nRow} rows and {nCol} columns')"
   ]
  },
  {
   "cell_type": "code",
   "execution_count": 60,
   "id": "293661d4",
   "metadata": {
    "scrolled": false
   },
   "outputs": [],
   "source": [
    "data.rename(columns={'Unnamed: 0': 'id'}, inplace=True)"
   ]
  },
  {
   "cell_type": "code",
   "execution_count": 61,
   "id": "b92a832b",
   "metadata": {},
   "outputs": [],
   "source": [
    "data.drop_duplicates(inplace=True)"
   ]
  },
  {
   "cell_type": "code",
   "execution_count": 50,
   "id": "43c0a304",
   "metadata": {
    "collapsed": true
   },
   "outputs": [
    {
     "data": {
      "text/plain": [
       "id                     int64\n",
       "Year                   int64\n",
       "Month                  int64\n",
       "DayofMonth             int64\n",
       "DayOfWeek              int64\n",
       "DepTime              float64\n",
       "CRSDepTime             int64\n",
       "ArrTime              float64\n",
       "CRSArrTime             int64\n",
       "UniqueCarrier         object\n",
       "FlightNum              int64\n",
       "TailNum               object\n",
       "ActualElapsedTime    float64\n",
       "CRSElapsedTime       float64\n",
       "AirTime              float64\n",
       "ArrDelay             float64\n",
       "DepDelay             float64\n",
       "Origin                object\n",
       "Dest                  object\n",
       "Distance               int64\n",
       "TaxiIn               float64\n",
       "TaxiOut              float64\n",
       "Cancelled              int64\n",
       "CancellationCode      object\n",
       "Diverted               int64\n",
       "CarrierDelay         float64\n",
       "WeatherDelay         float64\n",
       "NASDelay             float64\n",
       "SecurityDelay        float64\n",
       "LateAircraftDelay    float64\n",
       "dtype: object"
      ]
     },
     "execution_count": 50,
     "metadata": {},
     "output_type": "execute_result"
    }
   ],
   "source": [
    "data.dtypes"
   ]
  },
  {
   "cell_type": "code",
   "execution_count": 62,
   "id": "20211dd9",
   "metadata": {
    "scrolled": false
   },
   "outputs": [
    {
     "data": {
      "text/html": [
       "<div>\n",
       "<style scoped>\n",
       "    .dataframe tbody tr th:only-of-type {\n",
       "        vertical-align: middle;\n",
       "    }\n",
       "\n",
       "    .dataframe tbody tr th {\n",
       "        vertical-align: top;\n",
       "    }\n",
       "\n",
       "    .dataframe thead th {\n",
       "        text-align: right;\n",
       "    }\n",
       "</style>\n",
       "<table border=\"1\" class=\"dataframe\">\n",
       "  <thead>\n",
       "    <tr style=\"text-align: right;\">\n",
       "      <th></th>\n",
       "      <th>id</th>\n",
       "      <th>Year</th>\n",
       "      <th>Month</th>\n",
       "      <th>DayofMonth</th>\n",
       "      <th>DayOfWeek</th>\n",
       "      <th>DepTime</th>\n",
       "      <th>CRSDepTime</th>\n",
       "      <th>ArrTime</th>\n",
       "      <th>CRSArrTime</th>\n",
       "      <th>UniqueCarrier</th>\n",
       "      <th>...</th>\n",
       "      <th>TaxiIn</th>\n",
       "      <th>TaxiOut</th>\n",
       "      <th>Cancelled</th>\n",
       "      <th>CancellationCode</th>\n",
       "      <th>Diverted</th>\n",
       "      <th>CarrierDelay</th>\n",
       "      <th>WeatherDelay</th>\n",
       "      <th>NASDelay</th>\n",
       "      <th>SecurityDelay</th>\n",
       "      <th>LateAircraftDelay</th>\n",
       "    </tr>\n",
       "  </thead>\n",
       "  <tbody>\n",
       "    <tr>\n",
       "      <th>0</th>\n",
       "      <td>0</td>\n",
       "      <td>2008</td>\n",
       "      <td>1</td>\n",
       "      <td>3</td>\n",
       "      <td>4</td>\n",
       "      <td>2003.0</td>\n",
       "      <td>1955</td>\n",
       "      <td>2211.0</td>\n",
       "      <td>2225</td>\n",
       "      <td>WN</td>\n",
       "      <td>...</td>\n",
       "      <td>4.0</td>\n",
       "      <td>8.0</td>\n",
       "      <td>0</td>\n",
       "      <td>N</td>\n",
       "      <td>0</td>\n",
       "      <td>NaN</td>\n",
       "      <td>NaN</td>\n",
       "      <td>NaN</td>\n",
       "      <td>NaN</td>\n",
       "      <td>NaN</td>\n",
       "    </tr>\n",
       "    <tr>\n",
       "      <th>1</th>\n",
       "      <td>1</td>\n",
       "      <td>2008</td>\n",
       "      <td>1</td>\n",
       "      <td>3</td>\n",
       "      <td>4</td>\n",
       "      <td>754.0</td>\n",
       "      <td>735</td>\n",
       "      <td>1002.0</td>\n",
       "      <td>1000</td>\n",
       "      <td>WN</td>\n",
       "      <td>...</td>\n",
       "      <td>5.0</td>\n",
       "      <td>10.0</td>\n",
       "      <td>0</td>\n",
       "      <td>N</td>\n",
       "      <td>0</td>\n",
       "      <td>NaN</td>\n",
       "      <td>NaN</td>\n",
       "      <td>NaN</td>\n",
       "      <td>NaN</td>\n",
       "      <td>NaN</td>\n",
       "    </tr>\n",
       "    <tr>\n",
       "      <th>2</th>\n",
       "      <td>2</td>\n",
       "      <td>2008</td>\n",
       "      <td>1</td>\n",
       "      <td>3</td>\n",
       "      <td>4</td>\n",
       "      <td>628.0</td>\n",
       "      <td>620</td>\n",
       "      <td>804.0</td>\n",
       "      <td>750</td>\n",
       "      <td>WN</td>\n",
       "      <td>...</td>\n",
       "      <td>3.0</td>\n",
       "      <td>17.0</td>\n",
       "      <td>0</td>\n",
       "      <td>N</td>\n",
       "      <td>0</td>\n",
       "      <td>NaN</td>\n",
       "      <td>NaN</td>\n",
       "      <td>NaN</td>\n",
       "      <td>NaN</td>\n",
       "      <td>NaN</td>\n",
       "    </tr>\n",
       "    <tr>\n",
       "      <th>3</th>\n",
       "      <td>4</td>\n",
       "      <td>2008</td>\n",
       "      <td>1</td>\n",
       "      <td>3</td>\n",
       "      <td>4</td>\n",
       "      <td>1829.0</td>\n",
       "      <td>1755</td>\n",
       "      <td>1959.0</td>\n",
       "      <td>1925</td>\n",
       "      <td>WN</td>\n",
       "      <td>...</td>\n",
       "      <td>3.0</td>\n",
       "      <td>10.0</td>\n",
       "      <td>0</td>\n",
       "      <td>N</td>\n",
       "      <td>0</td>\n",
       "      <td>2.0</td>\n",
       "      <td>0.0</td>\n",
       "      <td>0.0</td>\n",
       "      <td>0.0</td>\n",
       "      <td>32.0</td>\n",
       "    </tr>\n",
       "    <tr>\n",
       "      <th>4</th>\n",
       "      <td>5</td>\n",
       "      <td>2008</td>\n",
       "      <td>1</td>\n",
       "      <td>3</td>\n",
       "      <td>4</td>\n",
       "      <td>1940.0</td>\n",
       "      <td>1915</td>\n",
       "      <td>2121.0</td>\n",
       "      <td>2110</td>\n",
       "      <td>WN</td>\n",
       "      <td>...</td>\n",
       "      <td>4.0</td>\n",
       "      <td>10.0</td>\n",
       "      <td>0</td>\n",
       "      <td>N</td>\n",
       "      <td>0</td>\n",
       "      <td>NaN</td>\n",
       "      <td>NaN</td>\n",
       "      <td>NaN</td>\n",
       "      <td>NaN</td>\n",
       "      <td>NaN</td>\n",
       "    </tr>\n",
       "  </tbody>\n",
       "</table>\n",
       "<p>5 rows × 30 columns</p>\n",
       "</div>"
      ],
      "text/plain": [
       "   id  Year  Month  DayofMonth  DayOfWeek  DepTime  CRSDepTime  ArrTime  \\\n",
       "0   0  2008      1           3          4   2003.0        1955   2211.0   \n",
       "1   1  2008      1           3          4    754.0         735   1002.0   \n",
       "2   2  2008      1           3          4    628.0         620    804.0   \n",
       "3   4  2008      1           3          4   1829.0        1755   1959.0   \n",
       "4   5  2008      1           3          4   1940.0        1915   2121.0   \n",
       "\n",
       "   CRSArrTime UniqueCarrier  ...  TaxiIn TaxiOut  Cancelled  CancellationCode  \\\n",
       "0        2225            WN  ...     4.0     8.0          0                 N   \n",
       "1        1000            WN  ...     5.0    10.0          0                 N   \n",
       "2         750            WN  ...     3.0    17.0          0                 N   \n",
       "3        1925            WN  ...     3.0    10.0          0                 N   \n",
       "4        2110            WN  ...     4.0    10.0          0                 N   \n",
       "\n",
       "   Diverted  CarrierDelay  WeatherDelay NASDelay SecurityDelay  \\\n",
       "0         0           NaN           NaN      NaN           NaN   \n",
       "1         0           NaN           NaN      NaN           NaN   \n",
       "2         0           NaN           NaN      NaN           NaN   \n",
       "3         0           2.0           0.0      0.0           0.0   \n",
       "4         0           NaN           NaN      NaN           NaN   \n",
       "\n",
       "   LateAircraftDelay  \n",
       "0                NaN  \n",
       "1                NaN  \n",
       "2                NaN  \n",
       "3               32.0  \n",
       "4                NaN  \n",
       "\n",
       "[5 rows x 30 columns]"
      ]
     },
     "execution_count": 62,
     "metadata": {},
     "output_type": "execute_result"
    }
   ],
   "source": [
    "data.head()"
   ]
  },
  {
   "cell_type": "code",
   "execution_count": 64,
   "id": "aae1aa52",
   "metadata": {},
   "outputs": [],
   "source": [
    "data['EarlyArr'] = data['ArrDelay'] * (-1)"
   ]
  },
  {
   "cell_type": "code",
   "execution_count": 65,
   "id": "3fc7c4f6",
   "metadata": {},
   "outputs": [
    {
     "data": {
      "text/html": [
       "<div>\n",
       "<style scoped>\n",
       "    .dataframe tbody tr th:only-of-type {\n",
       "        vertical-align: middle;\n",
       "    }\n",
       "\n",
       "    .dataframe tbody tr th {\n",
       "        vertical-align: top;\n",
       "    }\n",
       "\n",
       "    .dataframe thead th {\n",
       "        text-align: right;\n",
       "    }\n",
       "</style>\n",
       "<table border=\"1\" class=\"dataframe\">\n",
       "  <thead>\n",
       "    <tr style=\"text-align: right;\">\n",
       "      <th></th>\n",
       "      <th>EarlyArr</th>\n",
       "      <th>ArrDelay</th>\n",
       "    </tr>\n",
       "  </thead>\n",
       "  <tbody>\n",
       "    <tr>\n",
       "      <th>0</th>\n",
       "      <td>14.0</td>\n",
       "      <td>-14.0</td>\n",
       "    </tr>\n",
       "    <tr>\n",
       "      <th>1</th>\n",
       "      <td>-2.0</td>\n",
       "      <td>2.0</td>\n",
       "    </tr>\n",
       "    <tr>\n",
       "      <th>2</th>\n",
       "      <td>-14.0</td>\n",
       "      <td>14.0</td>\n",
       "    </tr>\n",
       "    <tr>\n",
       "      <th>3</th>\n",
       "      <td>-34.0</td>\n",
       "      <td>34.0</td>\n",
       "    </tr>\n",
       "    <tr>\n",
       "      <th>4</th>\n",
       "      <td>-11.0</td>\n",
       "      <td>11.0</td>\n",
       "    </tr>\n",
       "    <tr>\n",
       "      <th>...</th>\n",
       "      <td>...</td>\n",
       "      <td>...</td>\n",
       "    </tr>\n",
       "    <tr>\n",
       "      <th>1936753</th>\n",
       "      <td>-25.0</td>\n",
       "      <td>25.0</td>\n",
       "    </tr>\n",
       "    <tr>\n",
       "      <th>1936754</th>\n",
       "      <td>-75.0</td>\n",
       "      <td>75.0</td>\n",
       "    </tr>\n",
       "    <tr>\n",
       "      <th>1936755</th>\n",
       "      <td>-99.0</td>\n",
       "      <td>99.0</td>\n",
       "    </tr>\n",
       "    <tr>\n",
       "      <th>1936756</th>\n",
       "      <td>-9.0</td>\n",
       "      <td>9.0</td>\n",
       "    </tr>\n",
       "    <tr>\n",
       "      <th>1936757</th>\n",
       "      <td>5.0</td>\n",
       "      <td>-5.0</td>\n",
       "    </tr>\n",
       "  </tbody>\n",
       "</table>\n",
       "<p>1936758 rows × 2 columns</p>\n",
       "</div>"
      ],
      "text/plain": [
       "         EarlyArr  ArrDelay\n",
       "0            14.0     -14.0\n",
       "1            -2.0       2.0\n",
       "2           -14.0      14.0\n",
       "3           -34.0      34.0\n",
       "4           -11.0      11.0\n",
       "...           ...       ...\n",
       "1936753     -25.0      25.0\n",
       "1936754     -75.0      75.0\n",
       "1936755     -99.0      99.0\n",
       "1936756      -9.0       9.0\n",
       "1936757       5.0      -5.0\n",
       "\n",
       "[1936758 rows x 2 columns]"
      ]
     },
     "execution_count": 65,
     "metadata": {},
     "output_type": "execute_result"
    }
   ],
   "source": [
    "data[['EarlyArr', 'ArrDelay']]"
   ]
  },
  {
   "cell_type": "code",
   "execution_count": 66,
   "id": "0f9c7e3c",
   "metadata": {},
   "outputs": [],
   "source": [
    "data.loc[(data.ArrDelay < 0), 'ArrDelay'] = 0"
   ]
  },
  {
   "cell_type": "code",
   "execution_count": 67,
   "id": "d1f26fe1",
   "metadata": {},
   "outputs": [],
   "source": [
    "data.loc[(data.EarlyArr < 0), 'EarlyArr'] = 0"
   ]
  },
  {
   "cell_type": "code",
   "execution_count": 68,
   "id": "de6442cf",
   "metadata": {},
   "outputs": [
    {
     "data": {
      "text/html": [
       "<div>\n",
       "<style scoped>\n",
       "    .dataframe tbody tr th:only-of-type {\n",
       "        vertical-align: middle;\n",
       "    }\n",
       "\n",
       "    .dataframe tbody tr th {\n",
       "        vertical-align: top;\n",
       "    }\n",
       "\n",
       "    .dataframe thead th {\n",
       "        text-align: right;\n",
       "    }\n",
       "</style>\n",
       "<table border=\"1\" class=\"dataframe\">\n",
       "  <thead>\n",
       "    <tr style=\"text-align: right;\">\n",
       "      <th></th>\n",
       "      <th>EarlyArr</th>\n",
       "      <th>ArrDelay</th>\n",
       "    </tr>\n",
       "  </thead>\n",
       "  <tbody>\n",
       "    <tr>\n",
       "      <th>0</th>\n",
       "      <td>14.0</td>\n",
       "      <td>0.0</td>\n",
       "    </tr>\n",
       "    <tr>\n",
       "      <th>1</th>\n",
       "      <td>0.0</td>\n",
       "      <td>2.0</td>\n",
       "    </tr>\n",
       "    <tr>\n",
       "      <th>2</th>\n",
       "      <td>0.0</td>\n",
       "      <td>14.0</td>\n",
       "    </tr>\n",
       "    <tr>\n",
       "      <th>3</th>\n",
       "      <td>0.0</td>\n",
       "      <td>34.0</td>\n",
       "    </tr>\n",
       "    <tr>\n",
       "      <th>4</th>\n",
       "      <td>0.0</td>\n",
       "      <td>11.0</td>\n",
       "    </tr>\n",
       "    <tr>\n",
       "      <th>...</th>\n",
       "      <td>...</td>\n",
       "      <td>...</td>\n",
       "    </tr>\n",
       "    <tr>\n",
       "      <th>1936753</th>\n",
       "      <td>0.0</td>\n",
       "      <td>25.0</td>\n",
       "    </tr>\n",
       "    <tr>\n",
       "      <th>1936754</th>\n",
       "      <td>0.0</td>\n",
       "      <td>75.0</td>\n",
       "    </tr>\n",
       "    <tr>\n",
       "      <th>1936755</th>\n",
       "      <td>0.0</td>\n",
       "      <td>99.0</td>\n",
       "    </tr>\n",
       "    <tr>\n",
       "      <th>1936756</th>\n",
       "      <td>0.0</td>\n",
       "      <td>9.0</td>\n",
       "    </tr>\n",
       "    <tr>\n",
       "      <th>1936757</th>\n",
       "      <td>5.0</td>\n",
       "      <td>0.0</td>\n",
       "    </tr>\n",
       "  </tbody>\n",
       "</table>\n",
       "<p>1936758 rows × 2 columns</p>\n",
       "</div>"
      ],
      "text/plain": [
       "         EarlyArr  ArrDelay\n",
       "0            14.0       0.0\n",
       "1             0.0       2.0\n",
       "2             0.0      14.0\n",
       "3             0.0      34.0\n",
       "4             0.0      11.0\n",
       "...           ...       ...\n",
       "1936753       0.0      25.0\n",
       "1936754       0.0      75.0\n",
       "1936755       0.0      99.0\n",
       "1936756       0.0       9.0\n",
       "1936757       5.0       0.0\n",
       "\n",
       "[1936758 rows x 2 columns]"
      ]
     },
     "execution_count": 68,
     "metadata": {},
     "output_type": "execute_result"
    }
   ],
   "source": [
    "data[['EarlyArr', 'ArrDelay']]"
   ]
  },
  {
   "cell_type": "code",
   "execution_count": 69,
   "id": "9b56984b",
   "metadata": {},
   "outputs": [
    {
     "data": {
      "text/plain": [
       "count    1.928371e+06\n",
       "mean     6.363573e-01\n",
       "std      2.723945e+00\n",
       "min      0.000000e+00\n",
       "25%      0.000000e+00\n",
       "50%      0.000000e+00\n",
       "75%      0.000000e+00\n",
       "max      1.090000e+02\n",
       "Name: EarlyArr, dtype: float64"
      ]
     },
     "execution_count": 69,
     "metadata": {},
     "output_type": "execute_result"
    }
   ],
   "source": [
    "data['EarlyArr'].describe()"
   ]
  },
  {
   "cell_type": "code",
   "execution_count": 70,
   "id": "f7d8de73",
   "metadata": {},
   "outputs": [
    {
     "data": {
      "text/plain": [
       "count    1.928371e+06\n",
       "mean     4.283624e+01\n",
       "std      5.623669e+01\n",
       "min      0.000000e+00\n",
       "25%      9.000000e+00\n",
       "50%      2.400000e+01\n",
       "75%      5.600000e+01\n",
       "max      2.461000e+03\n",
       "Name: ArrDelay, dtype: float64"
      ]
     },
     "execution_count": 70,
     "metadata": {},
     "output_type": "execute_result"
    }
   ],
   "source": [
    "data['ArrDelay'].describe()"
   ]
  },
  {
   "cell_type": "code",
   "execution_count": 78,
   "id": "f2206711",
   "metadata": {},
   "outputs": [],
   "source": [
    "data[\"date\"] = data[\"Year\"].astype(str) + \"-\" + data[\"Month\"].astype(str) + \"-\" + data[\"DayofMonth\"].astype(str)"
   ]
  },
  {
   "cell_type": "code",
   "execution_count": 79,
   "id": "d0fca9f5",
   "metadata": {},
   "outputs": [
    {
     "data": {
      "text/plain": [
       "0            2008-1-3\n",
       "1            2008-1-3\n",
       "2            2008-1-3\n",
       "3            2008-1-3\n",
       "4            2008-1-3\n",
       "              ...    \n",
       "1936753    2008-12-13\n",
       "1936754    2008-12-13\n",
       "1936755    2008-12-13\n",
       "1936756    2008-12-13\n",
       "1936757    2008-12-13\n",
       "Name: date, Length: 1936758, dtype: object"
      ]
     },
     "execution_count": 79,
     "metadata": {},
     "output_type": "execute_result"
    }
   ],
   "source": [
    "data[\"date\"]"
   ]
  },
  {
   "cell_type": "code",
   "execution_count": 81,
   "id": "4bc348f4",
   "metadata": {},
   "outputs": [],
   "source": [
    "data['date']= pd.to_datetime(data['date'])"
   ]
  },
  {
   "cell_type": "code",
   "execution_count": 82,
   "id": "edc19fa0",
   "metadata": {},
   "outputs": [
    {
     "data": {
      "text/plain": [
       "0         2008-01-03\n",
       "1         2008-01-03\n",
       "2         2008-01-03\n",
       "3         2008-01-03\n",
       "4         2008-01-03\n",
       "             ...    \n",
       "1936753   2008-12-13\n",
       "1936754   2008-12-13\n",
       "1936755   2008-12-13\n",
       "1936756   2008-12-13\n",
       "1936757   2008-12-13\n",
       "Name: date, Length: 1936758, dtype: datetime64[ns]"
      ]
     },
     "execution_count": 82,
     "metadata": {},
     "output_type": "execute_result"
    }
   ],
   "source": [
    "data[\"date\"]"
   ]
  },
  {
   "cell_type": "code",
   "execution_count": 83,
   "id": "0f67f269",
   "metadata": {},
   "outputs": [],
   "source": [
    "data.to_csv('FlightAnalysis.csv')"
   ]
  },
  {
   "cell_type": "code",
   "execution_count": null,
   "id": "27c2afe2",
   "metadata": {},
   "outputs": [],
   "source": []
  },
  {
   "cell_type": "code",
   "execution_count": null,
   "id": "05f8e1be",
   "metadata": {},
   "outputs": [],
   "source": []
  },
  {
   "cell_type": "code",
   "execution_count": null,
   "id": "ebf92048",
   "metadata": {},
   "outputs": [],
   "source": []
  },
  {
   "cell_type": "code",
   "execution_count": null,
   "id": "09c7a4a4",
   "metadata": {},
   "outputs": [],
   "source": []
  }
 ],
 "metadata": {
  "kernelspec": {
   "display_name": "Python 3 (ipykernel)",
   "language": "python",
   "name": "python3"
  },
  "language_info": {
   "codemirror_mode": {
    "name": "ipython",
    "version": 3
   },
   "file_extension": ".py",
   "mimetype": "text/x-python",
   "name": "python",
   "nbconvert_exporter": "python",
   "pygments_lexer": "ipython3",
   "version": "3.10.4"
  }
 },
 "nbformat": 4,
 "nbformat_minor": 5
}
